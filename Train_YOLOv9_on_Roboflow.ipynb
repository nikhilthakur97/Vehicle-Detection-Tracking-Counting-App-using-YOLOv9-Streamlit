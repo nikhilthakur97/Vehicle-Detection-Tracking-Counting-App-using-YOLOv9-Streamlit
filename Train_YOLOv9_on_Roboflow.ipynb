{
 "cells": [
  {
   "cell_type": "markdown",
   "metadata": {},
   "source": [
    "# 🚗 Train YOLOv9 on Roboflow Dataset (Google Colab with T4 GPU)\n",
    "\n",
    "- 📥 Download a dataset from **Roboflow** using its API\n",
    "- 🏋️ Train a **YOLOv9** model using **Ultralytics**\n",
    "- 💾 Export the trained model for local use (e.g. Streamlit)\n",
    "\n",
    "We are building a real-time vehicle detection app that detects, tracks, and counts cars, trucks, and motorcycles in uploaded videos."
   ]
  },
  {
   "cell_type": "code",
   "execution_count": null,
   "metadata": {},
   "outputs": [],
   "source": [
    "# ✅ Step 1: Install dependencies\n",
    "!pip install ultralytics roboflow --quiet\n",
    "# Install Ultralytics YOLOv9\n",
    "!pip install ultralytics roboflow opencv-python --quiet"
   ]
  },
  {
   "cell_type": "markdown",
   "metadata": {},
   "source": [
    "## 🔗 Step 2: Import Roboflow Dataset via API"
   ]
  },
  {
   "cell_type": "code",
   "execution_count": null,
   "metadata": {},
   "outputs": [],
   "source": [
    "from roboflow import Roboflow\n",
    "\n",
    "# Replace with your own Roboflow API key\n",
    "rf = Roboflow(api_key=\"your_api_key_here\")\n",
    "project = rf.workspace(\"your_workspace\").project(\"your_project\")\n",
    "dataset = project.version(1).download(\"yolov5\") \n"
   ]
  },
  {
   "cell_type": "code",
   "execution_count": null,
   "metadata": {},
   "outputs": [],
   "source": [
    "import os\n",
    "\n",
    "print(os.path.exists(\"/content/Vehicles-OpenImages-1/data.yaml\"))"
   ]
  },
  {
   "cell_type": "code",
   "execution_count": null,
   "metadata": {},
   "outputs": [],
   "source": [
    "#Problem fixed with the yaml file\n",
    "correct_yaml = \"\"\"\n",
    "train: /content/Vehicles-OpenImages-1/train/images\n",
    "val: /content/Vehicles-OpenImages-1/valid/images\n",
    "\n",
    "nc: 5\n",
    "names:\n",
    "- Ambulance\n",
    "- Bus\n",
    "- Car\n",
    "- Motorcycle\n",
    "- Truck\n",
    "\"\"\"\n",
    "\n",
    "# Save the corrected data.yaml file\n",
    "with open(\"/content/Vehicles-OpenImages-1/data.yaml\", \"w\") as f:\n",
    "    f.write(correct_yaml)\n"
   ]
  },
  {
   "cell_type": "markdown",
   "metadata": {},
   "source": [
    "## 🏋️ Step 3: Train YOLOv9 on the Roboflow Dataset"
   ]
  },
  {
   "cell_type": "code",
   "execution_count": null,
   "metadata": {},
   "outputs": [],
   "source": [
    "from ultralytics import YOLO\n",
    "\n",
    "# Load a YOLOv9 model \n",
    "model = YOLO(\"yolov9c.pt\")\n",
    "\n",
    "# Train the model\n",
    "model.train(data=\"your-project-1/data.yaml\", epochs=30, imgsz=640)"
   ]
  },
  {
   "cell_type": "markdown",
   "metadata": {},
   "source": [
    "## 📈 Step 4: Evaluate the Model "
   ]
  },
  {
   "cell_type": "code",
   "execution_count": null,
   "metadata": {},
   "outputs": [],
   "source": [
    "# Run validation\n",
    "metrics = model.val()\n",
    "metrics.box.map50  # mAP@0.5"
   ]
  },
  {
   "cell_type": "markdown",
   "metadata": {},
   "source": [
    "## 💾 Step 5: Export the Trained Model"
   ]
  },
  {
   "cell_type": "code",
   "execution_count": null,
   "metadata": {},
   "outputs": [],
   "source": [
    "# Download the best model weights\n",
    "from google.colab import files\n",
    "files.download('runs/detect/train/weights/best.pt')"
   ]
  },
  {
   "cell_type": "markdown",
   "metadata": {},
   "source": [
    "## ✅ Next Step: Use `best.pt` in your Streamlit app locally\n",
    "- Just copy it to your project folder\n",
    "- Load with `model = YOLO('best.pt')` in `app.py`"
   ]
  }
 ],
 "metadata": {
  "kernelspec": {
   "display_name": "Python 3",
   "name": "python3"
  },
  "language_info": {
   "name": "python",
   "version": "3.11"
  }
 },
 "nbformat": 4,
 "nbformat_minor": 2
}
